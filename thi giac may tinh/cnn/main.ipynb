{
 "cells": [
  {
   "cell_type": "code",
   "execution_count": 2,
   "metadata": {},
   "outputs": [],
   "source": [
    "import cv2\n",
    "import numpy as np\n",
    "from matplotlib import pyplot as plt\n",
    "# nmist data by tensorflow\n",
    "from tensorflow.keras.datasets import mnist\n",
    "# load data"
   ]
  },
  {
   "cell_type": "code",
   "execution_count": 12,
   "metadata": {},
   "outputs": [],
   "source": [
    "# build model cnn\n",
    "from tensorflow.keras.models import Sequential\n",
    "from tensorflow.keras.layers import Dense, Dropout, Flatten, Input\n",
    "from tensorflow.keras.layers import Conv2D, MaxPooling2D\n",
    "from tensorflow.keras import backend as K\n",
    "\n",
    "# input image dimensions\n",
    "img_rows, img_cols = 28, 28\n",
    "\n",
    "# the data, split between train and test sets\n",
    "(x_train, y_train), (x_test, y_test) = mnist.load_data()\n"
   ]
  },
  {
   "cell_type": "code",
   "execution_count": 13,
   "metadata": {},
   "outputs": [
    {
     "name": "stdout",
     "output_type": "stream",
     "text": [
      "Model: \"model\"\n",
      "_________________________________________________________________\n",
      " Layer (type)                Output Shape              Param #   \n",
      "=================================================================\n",
      " input_4 (InputLayer)        [(None, 28, 28, 1)]       0         \n",
      "                                                                 \n",
      " conv2d_6 (Conv2D)           (None, 26, 26, 10)        100       \n",
      "                                                                 \n",
      " max_pooling2d_5 (MaxPooling  (None, 13, 13, 10)       0         \n",
      " 2D)                                                             \n",
      "                                                                 \n",
      " conv2d_7 (Conv2D)           (None, 11, 11, 20)        1820      \n",
      "                                                                 \n",
      " max_pooling2d_6 (MaxPooling  (None, 5, 5, 20)         0         \n",
      " 2D)                                                             \n",
      "                                                                 \n",
      " flatten_3 (Flatten)         (None, 500)               0         \n",
      "                                                                 \n",
      " dense_9 (Dense)             (None, 32)                16032     \n",
      "                                                                 \n",
      " dense_10 (Dense)            (None, 16)                528       \n",
      "                                                                 \n",
      " dense_11 (Dense)            (None, 10)                170       \n",
      "                                                                 \n",
      "=================================================================\n",
      "Total params: 18,650\n",
      "Trainable params: 18,650\n",
      "Non-trainable params: 0\n",
      "_________________________________________________________________\n"
     ]
    }
   ],
   "source": [
    "# build model CNN\n",
    "from tensorflow.keras.models import Model\n",
    "\n",
    "inp = Input(shape = (28,28,1))\n",
    "\n",
    "cnn = Conv2D(filters = 10, kernel_size = 3, activation = 'relu')(inp)\n",
    "pooling1 = MaxPooling2D(pool_size = (2,2)) (cnn)\n",
    "\n",
    "cnn = Conv2D(filters = 20, kernel_size = 3, activation = 'relu')(pooling1)\n",
    "pooling2 = MaxPooling2D(pool_size = (2,2)) (cnn)\n",
    "\n",
    "f = Flatten()(pooling2)\n",
    "\n",
    "fc1 = Dense(units = 32, activation = 'relu')(f)\n",
    "fc2 = Dense(units = 16, activation = 'relu')(fc1)\n",
    "out = Dense(units = 10, activation = 'softmax')(fc2)\n",
    "\n",
    "model = Model(inputs = inp, outputs = out)\n",
    "model.summary()"
   ]
  },
  {
   "cell_type": "code",
   "execution_count": 14,
   "metadata": {},
   "outputs": [
    {
     "name": "stdout",
     "output_type": "stream",
     "text": [
      "Epoch 1/10\n",
      "469/469 [==============================] - 13s 25ms/step - loss: 1.9274 - accuracy: 0.3047 - val_loss: 1.2395 - val_accuracy: 0.5434\n",
      "Epoch 2/10\n",
      "469/469 [==============================] - 17s 37ms/step - loss: 0.5843 - accuracy: 0.8524 - val_loss: 0.3513 - val_accuracy: 0.9406\n",
      "Epoch 3/10\n",
      "469/469 [==============================] - 14s 29ms/step - loss: 0.2644 - accuracy: 0.9537 - val_loss: 0.2125 - val_accuracy: 0.9512\n",
      "Epoch 4/10\n",
      "469/469 [==============================] - 17s 36ms/step - loss: 0.1143 - accuracy: 0.9699 - val_loss: 0.0993 - val_accuracy: 0.9754\n",
      "Epoch 5/10\n",
      "469/469 [==============================] - 14s 31ms/step - loss: 0.0737 - accuracy: 0.9784 - val_loss: 0.0812 - val_accuracy: 0.9791\n",
      "Epoch 6/10\n",
      "469/469 [==============================] - 17s 36ms/step - loss: 0.0564 - accuracy: 0.9838 - val_loss: 0.0735 - val_accuracy: 0.9802\n",
      "Epoch 7/10\n",
      "469/469 [==============================] - 17s 36ms/step - loss: 0.0478 - accuracy: 0.9848 - val_loss: 0.0666 - val_accuracy: 0.9799\n",
      "Epoch 8/10\n",
      "469/469 [==============================] - 17s 37ms/step - loss: 0.0396 - accuracy: 0.9878 - val_loss: 0.0647 - val_accuracy: 0.9813\n",
      "Epoch 9/10\n",
      "469/469 [==============================] - 13s 28ms/step - loss: 0.0367 - accuracy: 0.9882 - val_loss: 0.0652 - val_accuracy: 0.9820\n",
      "Epoch 10/10\n",
      "469/469 [==============================] - 18s 38ms/step - loss: 0.0315 - accuracy: 0.9901 - val_loss: 0.0629 - val_accuracy: 0.9826\n"
     ]
    }
   ],
   "source": [
    "# model compile\n",
    "model.compile(loss = 'sparse_categorical_crossentropy', optimizer = 'adam', metrics = ['accuracy'])\n",
    "history = model.fit(x_train, y_train, batch_size = 128, epochs = 10, validation_data = (x_test, y_test))\n"
   ]
  }
 ],
 "metadata": {
  "kernelspec": {
   "display_name": "Python 3.9.1 64-bit",
   "language": "python",
   "name": "python3"
  },
  "language_info": {
   "codemirror_mode": {
    "name": "ipython",
    "version": 3
   },
   "file_extension": ".py",
   "mimetype": "text/x-python",
   "name": "python",
   "nbconvert_exporter": "python",
   "pygments_lexer": "ipython3",
   "version": "3.9.1"
  },
  "orig_nbformat": 4,
  "vscode": {
   "interpreter": {
    "hash": "5847abfd9beea167dda7d9ca7e1fb9b7b94b4eba9209f2fc13f3d9d41f07c88b"
   }
  }
 },
 "nbformat": 4,
 "nbformat_minor": 2
}
